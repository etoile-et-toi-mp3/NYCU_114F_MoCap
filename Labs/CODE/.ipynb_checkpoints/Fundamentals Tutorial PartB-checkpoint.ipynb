{
 "cells": [
  {
   "cell_type": "markdown",
   "metadata": {
    "collapsed": true,
    "id": "AcBuFVlJ9Ohv"
   },
   "source": [
    "# Python Fundamentals: Part B\n",
    "This notebook demonstrates how to perform a variety of fundamental tasks in the Python programming language.\n",
    "\n",
    "### NumPy Arrays in Python"
   ]
  },
  {
   "cell_type": "code",
   "execution_count": null,
   "metadata": {},
   "outputs": [],
   "source": [
    "#import the NumPy library and assign it the alias 'np'\n",
    "import numpy as np\n",
    "\n",
    "\n",
    "#create a two-dimensional array of size 2x3 (i.e., 2 rows, 3 columns), and set all of its values to zero\n",
    "np_array = np.zeros((2, 3))\n",
    "\n",
    "#print the current state of the two-dimensional array\n",
    "print(np_array)"
   ]
  },
  {
   "cell_type": "markdown",
   "metadata": {},
   "source": [
    "#### Indexing in Two-Dimensional Lists and Arrays\n",
    "When working with two-dimensional lists or arrays, we need to specify the index of an element's row and the index of its column."
   ]
  },
  {
   "cell_type": "code",
   "execution_count": null,
   "metadata": {},
   "outputs": [],
   "source": [
    "#set the values of the upper-left and lower-right elements to 5 and 3, respectively\n",
    "np_array[0,0] = 5\n",
    "np_array[1,2] = 3\n",
    "\n",
    "#print the current state of the two-dimensional array\n",
    "print(np_array)\n",
    "\n",
    "#print the mean (average) of all of the array elements\n",
    "print(np.mean(np_array))\n",
    "\n"
   ]
  },
  {
   "cell_type": "markdown",
   "metadata": {},
   "source": [
    "### NumPy Arrays in Python\n"
   ]
  },
  {
   "cell_type": "markdown",
   "metadata": {},
   "source": [
    "### `for` Loops in Python"
   ]
  },
  {
   "cell_type": "code",
   "execution_count": null,
   "metadata": {},
   "outputs": [],
   "source": [
    "#print the first 10 natural numbers (1 through 10).\n",
    "#note that the lower limit of the range is inclusive, while the upper limit of the range is exclusive.\n",
    "for x in range(1, 11):\n",
    "    print(x)"
   ]
  },
  {
   "cell_type": "markdown",
   "metadata": {},
   "source": [
    "###  【Exercises】 We want to print an 8x8 cheeboard as follows:\n",
    "\n",
    "Procedure:\n",
    "\n",
    "Begin by creating an 8x8 array to represent the squares on a chessboard, with the numeric rule that 1 corresponds to white squares and 0 to black squares.\n",
    "\n",
    "For instance, in this matrix, the first row's first column is 0, the first row's second column is 1, and so forth. Next, employ a loop to iterate through each number within the matrix. When the number is 1, print 「□」 and when the number is 0, print「■」 \n",
    "![title](8x8.jpg)\n"
   ]
  },
  {
   "cell_type": "code",
   "execution_count": null,
   "metadata": {},
   "outputs": [],
   "source": [
    "    "
   ]
  },
  {
   "cell_type": "code",
   "execution_count": null,
   "metadata": {},
   "outputs": [],
   "source": [
    "#use nested for loops to print out each element in the array\n",
    "\n",
    "import numpy as np #import the NumPy library and assign it the alias 'np'\n",
    "\n",
    "np_array = np.zeros((2, 3)) #create a two-dimensional array of size 2x3 (i.e., 2 rows, 3 columns), and set all of its values to zero\n",
    "\n",
    "#set the values of the upper-left and lower-right elements to 5 and 3, respectively\n",
    "np_array[0,0] = 5\n",
    "np_array[1,2] = 3\n",
    "\n",
    "\n",
    "for row in range(0, 2):\n",
    "    for column in range(0, 3):\n",
    "        print('The value of element [{0},{1}] is {2}'.format(row, column, np_array[row,column]))"
   ]
  },
  {
   "cell_type": "markdown",
   "metadata": {},
   "source": [
    "### `while` Loops in Python"
   ]
  },
  {
   "cell_type": "code",
   "execution_count": null,
   "metadata": {},
   "outputs": [],
   "source": [
    "#use a while loop to print a geometric series with a factor of 2\n",
    "x = 1\n",
    "while x < 1000:\n",
    "    print(x)\n",
    "    x = x * 2"
   ]
  },
  {
   "cell_type": "markdown",
   "metadata": {},
   "source": [
    "## 【Exercises】改進版拍拍機器人(advansed pity seeker)"
   ]
  },
  {
   "cell_type": "code",
   "execution_count": null,
   "metadata": {},
   "outputs": [],
   "source": [
    "message = \"\"\n",
    ">>> while message != \"夠了\":\n",
    "        message = input(\">> \")\n",
    "        print('拍拍')\n",
    "# 輸入\"空虛\"\n",
    "#拍拍\n",
    "# 輸入\"寂寞\"\n",
    "#拍拍\n",
    "# 輸入\"覺得冷\"\n",
    "#拍拍\n",
    "# 輸入\"夠了\"\n",
    "#拍拍"
   ]
  },
  {
   "cell_type": "markdown",
   "metadata": {},
   "source": [
    "### Functions in Python"
   ]
  },
  {
   "cell_type": "code",
   "execution_count": null,
   "metadata": {},
   "outputs": [],
   "source": [
    "#define a function that multiplies two numbers together\n",
    "def multiply(a, b):\n",
    "    return a * b\n",
    "\n",
    "#call the function and print the result\n",
    "c = multiply(10,2)\n",
    "print('The answer is {}'.format(c))"
   ]
  },
  {
   "cell_type": "code",
   "execution_count": null,
   "metadata": {},
   "outputs": [],
   "source": [
    "#define a function that determines if a number is even\n",
    "def is_even(x):\n",
    "    if x % 2 == 0: #a number is even if it can be evenly divided by 2\n",
    "        return True\n",
    "    else:\n",
    "        return False\n",
    "    \n",
    "#call the function several times and print the results\n",
    "for i in range(0, 10):\n",
    "    print('Is {0} an even number? Answer: {1}'.format(i, is_even(i)))"
   ]
  },
  {
   "cell_type": "markdown",
   "metadata": {},
   "source": [
    "### Classes and Objects in Python"
   ]
  },
  {
   "cell_type": "code",
   "execution_count": null,
   "metadata": {},
   "outputs": [],
   "source": [
    "#define a 'Movie' class to hold information about movies\n",
    "class Movie():\n",
    "    def __init__(self, title, year, director):\n",
    "        self.title = title\n",
    "        self.year = year\n",
    "        self.director = director\n",
    "\n",
    "#add a few movie objects to a 'movies' list\n",
    "movies = [] #create an empty list\n",
    "movies.append(Movie('Avatar', 2009, 'James Cameron'))\n",
    "movies.append(Movie('Black Panther', 2018, 'Ryan Coogler'))\n",
    "\n",
    "#print information about each movie\n",
    "for movie in movies:\n",
    "    print('The {0} movie {1} was directed by {2}.'.format(movie.year, movie.title, movie.director))"
   ]
  },
  {
   "cell_type": "markdown",
   "metadata": {},
   "source": [
    "###  【Class Work】 Tile Style\n",
    "\n",
    "Please write a Python program to do the Tile Style from the original image (lena.bmp).\n",
    "\n",
    "Procedure:\n",
    "\n",
    "\n",
    "Assume that the original image (512x512) is a matrix of chessboard blocks, with each block's size being 8x8, meaning each block contains 64 pixels.\n",
    "\n",
    "(A) Fill the entire block with the color of the first pixel (RGB) of that block. In other words, all 64 pixels in each block will have the same color from the first pixel.\n",
    "\n",
    "\n",
    "(B) Calculate the average color of each block and fill the entire block with this average color. This means that all 64 pixels in each block will have the same color, which is the average color of those 64 pixels.\n",
    "\n",
    "\n",
    "Original Image:\n",
    "\n",
    "![title](lena.bmp)\n",
    "\n",
    "Example of Output Image![title](lena_8x8_A.bmp)\n",
    "\n",
    "\n",
    "Please submit the files for class work:\n",
    "\n",
    "●The code for (A) and (B).\n",
    "\n",
    "●The output result of (A).\n",
    "\n",
    "●The output result of (B)."
   ]
  },
  {
   "cell_type": "code",
   "execution_count": null,
   "metadata": {},
   "outputs": [],
   "source": [
    "from __future__ import print_function\n",
    "from builtins import input\n",
    "import cv2 \n",
    "import numpy as np\n",
    "import argparse\n",
    "import time\n",
    "from tqdm import tqdm\n",
    "from IPython.display import display\n",
    "from PIL import Image\n",
    "# Read image given by user\n",
    "\n",
    "image = cv2.imread('lena.bmp')\n",
    "image = cv2.cvtColor(image, cv2.COLOR_BGR2RGB) # Converting BGR to RGB\n",
    "\n",
    "if image is None:\n",
    "    print('Could not open or find the image: ', args.input)\n",
    "    exit(0)\n",
    "\n",
    "\n",
    "new_image = np.zeros(image.shape, image.dtype)\n",
    "\n",
    "for y in tqdm(range(image.shape[0])):\n",
    "    for x in range(image.shape[1]):\n",
    "                if(y%8==0 or x%8==0):\n",
    "                    new_image[y,x] = 0\n",
    "                else:  \n",
    "                    new_image[y,x] = image[y,x] #new_image[y,x] = image[y-(y%8),x-(x%8)]\n",
    "        \n",
    "# Initialize values\n",
    "print(' Tile Style ')\n",
    "print('-------------------------')\n",
    "\n",
    "#cv2.imshow('Original Image', image)\n",
    "#cv2.imshow('New Image', new_image)\n",
    "display(Image.fromarray(image))\n",
    "display(Image.fromarray(new_image))\n",
    "\n",
    "# Wait until user press some key\n",
    "#cv2.waitKey()"
   ]
  },
  {
   "cell_type": "code",
   "execution_count": null,
   "metadata": {},
   "outputs": [],
   "source": []
  }
 ],
 "metadata": {
  "colab": {
   "provenance": [
    {
     "file_id": "1DH_RNP47kjK44iVIfhuctBQjmbh2lavK",
     "timestamp": 1665557762358
    }
   ]
  },
  "kernelspec": {
   "display_name": "Python 3",
   "language": "python",
   "name": "python3"
  },
  "language_info": {
   "codemirror_mode": {
    "name": "ipython",
    "version": 3
   },
   "file_extension": ".py",
   "mimetype": "text/x-python",
   "name": "python",
   "nbconvert_exporter": "python",
   "pygments_lexer": "ipython3",
   "version": "3.9.12"
  }
 },
 "nbformat": 4,
 "nbformat_minor": 1
}
