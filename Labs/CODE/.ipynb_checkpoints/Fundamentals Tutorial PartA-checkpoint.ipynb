{
 "cells": [
  {
   "cell_type": "markdown",
   "metadata": {
    "collapsed": true,
    "id": "AcBuFVlJ9Ohv"
   },
   "source": [
    "# Python Fundamentals: Part A\n",
    "This notebook demonstrates how to perform a variety of fundamental tasks in the Python programming language.\n",
    "\n",
    "### How to Display Text in Python"
   ]
  },
  {
   "cell_type": "code",
   "execution_count": 1,
   "metadata": {
    "id": "5fM_HUqM9Ohx"
   },
   "outputs": [
    {
     "name": "stdout",
     "output_type": "stream",
     "text": [
      "Hello, my name is superman!\n"
     ]
    }
   ],
   "source": [
    "#display a line of text using the  print()  function\n",
    "print('Hello, my name is superman!')"
   ]
  },
  {
   "cell_type": "markdown",
   "metadata": {
    "id": "B8wd7S519Oh2"
   },
   "source": [
    "### How to Include a Linefeed when Displaying Text in Python"
   ]
  },
  {
   "cell_type": "code",
   "execution_count": 4,
   "metadata": {
    "id": "p768CtMT9Oh3"
   },
   "outputs": [
    {
     "name": "stdout",
     "output_type": "stream",
     "text": [
      "This is the first line of text\n",
      "Here is another line of text\n"
     ]
    }
   ],
   "source": [
    "#print two lines of text by using the new line symbol\n",
    "print('This is the first line of text\\nHere is another line of text')"
   ]
  },
  {
   "cell_type": "markdown",
   "metadata": {
    "id": "_yLZrfbO9Oh8"
   },
   "source": [
    "### How to Declare Variables in Python"
   ]
  },
  {
   "cell_type": "code",
   "execution_count": 5,
   "metadata": {
    "id": "b9RE2sUl9Oh9"
   },
   "outputs": [
    {
     "name": "stdout",
     "output_type": "stream",
     "text": [
      "We sold 100 Top Gun for 9.99 each!\n"
     ]
    }
   ],
   "source": [
    "#declare three variables.\n",
    "#note that text values are enclosed in single quotes.\n",
    "movie_name = 'Top Gun'\n",
    "quantity_sold = 100\n",
    "unit_price = 9.99\n",
    "\n",
    "#print the values of the variables.\n",
    "#when used in this way, the '+' symbol joins two strings of text together.\n",
    "#the 'str()' function converts a number to a string (i.e., to text)\n",
    "print('We sold ' + str(quantity_sold) + ' ' + movie_name + ' for ' + str(unit_price) + ' each!')"
   ]
  },
  {
   "cell_type": "code",
   "execution_count": null,
   "metadata": {
    "id": "s9WchcbR9OiC"
   },
   "outputs": [],
   "source": [
    "#here's a more advanced way of accomplishing the same thing by using the 'format()' function:\n",
    "print('We sold {0} {1} for {2} each!'.format(quantity_sold, movie_name, unit_price))"
   ]
  },
  {
   "cell_type": "markdown",
   "metadata": {},
   "source": [
    "###  【Exercises】拍拍機器人(pity seeker)\n",
    "\n",
    "No matter what you input, it will respond with a「拍拍」 soothing chatbot."
   ]
  },
  {
   "cell_type": "code",
   "execution_count": 7,
   "metadata": {},
   "outputs": [
    {
     "name": "stdout",
     "output_type": "stream",
     "text": [
      "> i'm sad\n",
      "ヾ(･∀･`): 拍拍\n"
     ]
    }
   ],
   "source": [
    "message = input(\"> \")\n",
    "print(\"ヾ(･∀･`): 拍拍\")"
   ]
  },
  {
   "cell_type": "markdown",
   "metadata": {
    "id": "X2j2DJcT9OiG"
   },
   "source": [
    "### Arithmetic Operators in Python"
   ]
  },
  {
   "cell_type": "code",
   "execution_count": 6,
   "metadata": {
    "id": "CJPzv8YB9OiH"
   },
   "outputs": [
    {
     "name": "stdout",
     "output_type": "stream",
     "text": [
      "The values of a, b, c, d, e, f, and g are: 5, 7, 4, 8, 2.0, 4.0, and 0.0.\n"
     ]
    }
   ],
   "source": [
    "#set the value of a variable named 'a' to 5\n",
    "a = 5\n",
    "\n",
    "#addition. Result: 7\n",
    "b = a + 2  \n",
    "\n",
    "#subtraction. Result: 4\n",
    "c = b - 3   \n",
    "\n",
    "#multiplication. Result: 8\n",
    "d = c * 2   \n",
    "\n",
    "#division. Result: 2.0\n",
    "e = d / 4  \n",
    "\n",
    "#exponentiation. Result: 4.0\n",
    "f = e ** 2  \n",
    "\n",
    "#modulo (returns the remainder). Result: 0.0\n",
    "g = f % 2   \n",
    "\n",
    "#print results\n",
    "print('The values of a, b, c, d, e, f, and g are: {0}, {1}, {2}, {3}, {4}, {5}, and {6}.'.format(a, b, c, d, e, f, g))"
   ]
  },
  {
   "cell_type": "markdown",
   "metadata": {
    "id": "nAugy9IV9OiL"
   },
   "source": [
    "### Comparison Operators in Python"
   ]
  },
  {
   "cell_type": "code",
   "execution_count": 8,
   "metadata": {
    "id": "dOlcYEXd9OiM"
   },
   "outputs": [
    {
     "name": "stdout",
     "output_type": "stream",
     "text": [
      "False\n",
      "True\n",
      "False\n",
      "True\n",
      "False\n",
      "True\n"
     ]
    }
   ],
   "source": [
    "x = 5          #set the value of a variable named 'x' to 5\n",
    "print(x == 3)  #checks whether x is equal to 3. Result: False\n",
    "print(x != 7)  #checks whether x is not equal to 7. Result: True\n",
    "print(x > 14)  #checks whether x is greater than 14. Result: False\n",
    "print(x < 23)  #checks whether x is less than 23. Result: True\n",
    "print(x >= 9)  #checks whether x is greater than or equal to 9. Result: False\n",
    "print(x <= 5)  #checks whether x is less than or equal to 5. Result: True"
   ]
  },
  {
   "cell_type": "code",
   "execution_count": null,
   "metadata": {
    "id": "s6qC6rF49OiR"
   },
   "outputs": [],
   "source": [
    "x = -33\n",
    "x < 7"
   ]
  },
  {
   "cell_type": "markdown",
   "metadata": {},
   "source": [
    "###  【Exercises】GO GO JAPAN\n",
    "日本円 (JPY) to 新台幣(TWD) currency\n",
    "\n",
    "Note: Python input() function that takes input from a user as string format, and display to the screen.\n",
    "If we want to use the Operator, there is a need to convert the type of variable."
   ]
  },
  {
   "cell_type": "code",
   "execution_count": 9,
   "metadata": {},
   "outputs": [
    {
     "name": "stdout",
     "output_type": "stream",
     "text": [
      "日本円(JPY): 1000\n",
      "日本円(JPY): 1000\n",
      "新台幣(TWD): 220.0\n"
     ]
    }
   ],
   "source": [
    "c = 0.22\n",
    "jpy = input(\"日本円(JPY): \")\n",
    "print('日本円(JPY):', jpy)\n",
    "print('新台幣(TWD):', float(jpy)*c)"
   ]
  },
  {
   "cell_type": "markdown",
   "metadata": {},
   "source": [
    "###  【Exercises】 BMI Calculator\n",
    "Please use variables to record the user's age, hegiht and weight, and then output the user's BMI value."
   ]
  },
  {
   "cell_type": "code",
   "execution_count": null,
   "metadata": {},
   "outputs": [],
   "source": [
    "age = input(\"please enter your age: \")\n",
    "height = float(input(\"please enter your height(m): \"))\n",
    "weight = float(input(\"please enter your weight(kg): \"))\n",
    "print('your BMI:'+str(weight/(height**2)));\n"
   ]
  },
  {
   "cell_type": "markdown",
   "metadata": {},
   "source": [
    "### `if` Statements in Python"
   ]
  },
  {
   "cell_type": "code",
   "execution_count": 10,
   "metadata": {},
   "outputs": [
    {
     "name": "stdout",
     "output_type": "stream",
     "text": [
      "x is less than 10.\n"
     ]
    }
   ],
   "source": [
    "#declare a variable named 'x' and set its value\n",
    "x = -7\n",
    "\n",
    "#print a specific message depending on whether x is less than 10\n",
    "if x < 10:\n",
    "    print('x is less than 10.')\n",
    "else:\n",
    "    print('x is greater than or equal to 10.')"
   ]
  },
  {
   "cell_type": "markdown",
   "metadata": {},
   "source": [
    "###  【Class Work】 Add a countdown timer to interactive game\n",
    "\n",
    "In this class work, we are going to give a countdown timer to the interactive game.\n",
    "\n",
    "For instance, in your program, the timer starts the game and close the game in 1 minute.\n",
    "\n",
    "\n",
    "![title](interactive_game.png)\n"
   ]
  },
  {
   "cell_type": "code",
   "execution_count": null,
   "metadata": {},
   "outputs": [],
   "source": [
    "#handle multiple possibilities using an 'if', 'else if', 'else' structure\n",
    "age = 42\n",
    "\n",
    "if age < 13:\n",
    "    print('child')\n",
    "elif age < 20:\n",
    "    print('teenager')\n",
    "else:\n",
    "    print('adult')"
   ]
  },
  {
   "cell_type": "markdown",
   "metadata": {
    "id": "s7MdQkS79OiX"
   },
   "source": [
    "### Lists in Python"
   ]
  },
  {
   "cell_type": "code",
   "execution_count": 6,
   "metadata": {
    "id": "_7Gobv8O9OiX"
   },
   "outputs": [],
   "source": [
    "#create a list of integers\n",
    "int_list = [-3, 7, 4, 0, -2, 342]\n",
    "\n",
    "#create a list of strings\n",
    "constellations_list = ['Aries', 'Taurus', 'Gemini', 'Cancer', 'Leo', 'Virgo', 'Libra', 'Scorpio', 'Sagittarius', 'Capricorn','Aquarius','Pisces']\n",
    "\n",
    "#create a two-dimensional list of integers\n",
    "two_dimensional_list = [[-3, 7, 4], [0, -2, 342]]\n"
   ]
  },
  {
   "cell_type": "markdown",
   "metadata": {
    "id": "nM3wEvc89Oib"
   },
   "source": [
    "#### Indexing in Python\n",
    "Indexing in Python is zero-based, so the first element in a list or array has an index of `0`, the second element has an index of `1`, and so on."
   ]
  },
  {
   "cell_type": "code",
   "execution_count": 9,
   "metadata": {
    "id": "FlwQCoB79Oic"
   },
   "outputs": [
    {
     "name": "stdout",
     "output_type": "stream",
     "text": [
      "Taurus\n"
     ]
    }
   ],
   "source": [
    "#print the name of the third planet\n",
    "print(constellations_list[1])"
   ]
  },
  {
   "cell_type": "markdown",
   "metadata": {},
   "source": [
    "###  【Class Work】 Twelve Constellations\n",
    "Please writes a code, uses the Python input() function that takes Birthday input from a user, and then outputs the corresponding constellation.\n",
    "![title](constellations.png)"
   ]
  },
  {
   "cell_type": "code",
   "execution_count": null,
   "metadata": {},
   "outputs": [],
   "source": []
  }
 ],
 "metadata": {
  "colab": {
   "provenance": [
    {
     "file_id": "1DH_RNP47kjK44iVIfhuctBQjmbh2lavK",
     "timestamp": 1665557762358
    }
   ]
  },
  "kernelspec": {
   "display_name": "Python 3",
   "language": "python",
   "name": "python3"
  },
  "language_info": {
   "codemirror_mode": {
    "name": "ipython",
    "version": 3
   },
   "file_extension": ".py",
   "mimetype": "text/x-python",
   "name": "python",
   "nbconvert_exporter": "python",
   "pygments_lexer": "ipython3",
   "version": "3.9.12"
  }
 },
 "nbformat": 4,
 "nbformat_minor": 1
}
